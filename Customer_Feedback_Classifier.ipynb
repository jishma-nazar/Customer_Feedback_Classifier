{
 "cells": [
  {
   "cell_type": "code",
   "execution_count": 22,
   "id": "0ba4564a",
   "metadata": {},
   "outputs": [],
   "source": [
    "#Imports\n",
    "\n",
    "import pandas as pd\n",
    "from datasets import load_dataset, Dataset\n",
    "from sklearn.preprocessing import LabelEncoder\n",
    "from transformers import DistilBertTokenizerFast, DistilBertForSequenceClassification, Trainer, TrainingArguments\n",
    "import torch\n",
    "from sklearn.metrics import accuracy_score, precision_recall_fscore_support\n",
    "import os\n",
    "import re"
   ]
  },
  {
   "cell_type": "code",
   "execution_count": 23,
   "id": "07f2ca88",
   "metadata": {},
   "outputs": [],
   "source": [
    "#Load a subset of Amazon Polarity dataset\n",
    "train_dataset = load_dataset(\"amazon_polarity\", split='train[:5000]')\n",
    "test_dataset = load_dataset(\"amazon_polarity\", split='test[:1000]')"
   ]
  },
  {
   "cell_type": "code",
   "execution_count": 24,
   "id": "1a60e37c",
   "metadata": {},
   "outputs": [],
   "source": [
    "#Convert to pandas DataFrame\n",
    "train_df = pd.DataFrame(train_dataset)\n",
    "test_df = pd.DataFrame(test_dataset)"
   ]
  },
  {
   "cell_type": "code",
   "execution_count": 25,
   "id": "409b528a-920a-436a-904c-fd2c4b6a2b8a",
   "metadata": {},
   "outputs": [],
   "source": [
    "#Map labels: 0 -> Complaint, 1 -> Praise\n",
    "train_df['category'] = train_df['label'].apply(lambda x: 'Complaint' if x==0 else 'Praise')\n",
    "test_df['category'] = test_df['label'].apply(lambda x: 'Complaint' if x==0 else 'Praise')"
   ]
  },
  {
   "cell_type": "code",
   "execution_count": 26,
   "id": "af41cb0f-05f3-4a10-bca1-4c61d1d560f7",
   "metadata": {},
   "outputs": [],
   "source": [
    "#Clean text\n",
    "def clean_text(text):\n",
    "    text = text.lower()\n",
    "    text = re.sub(r'[^a-zA-Z0-9\\s]', '', text)\n",
    "    text = re.sub(r'\\s+', ' ', text)\n",
    "    return text\n",
    "\n",
    "train_df['cleaned'] = train_df['content'].apply(clean_text)\n",
    "test_df['cleaned'] = test_df['content'].apply(clean_text)"
   ]
  },
  {
   "cell_type": "code",
   "execution_count": 27,
   "id": "db7a0584-6ad1-4a61-823c-fd96c05019a8",
   "metadata": {},
   "outputs": [],
   "source": [
    "#Encode labels\n",
    "le = LabelEncoder()\n",
    "train_df['label_enc'] = le.fit_transform(train_df['category'])\n",
    "test_df['label_enc'] = le.transform(test_df['category'])"
   ]
  },
  {
   "cell_type": "code",
   "execution_count": 28,
   "id": "857a906f-a551-4aee-ba6f-af841570328b",
   "metadata": {},
   "outputs": [],
   "source": [
    "#Convert to Hugging Face Dataset\n",
    "train_dataset_hf = Dataset.from_pandas(train_df[['cleaned','label_enc']].rename(columns={'cleaned':'text','label_enc':'label'}))\n",
    "test_dataset_hf = Dataset.from_pandas(test_df[['cleaned','label_enc']].rename(columns={'cleaned':'text','label_enc':'label'}))"
   ]
  },
  {
   "cell_type": "code",
   "execution_count": 29,
   "id": "4e247bd8-de7b-484f-9ec9-c62e0ba6d5f3",
   "metadata": {},
   "outputs": [
    {
     "data": {
      "application/vnd.jupyter.widget-view+json": {
       "model_id": "91b89befac20408db831ef809b5f282a",
       "version_major": 2,
       "version_minor": 0
      },
      "text/plain": [
       "Map:   0%|          | 0/5000 [00:00<?, ? examples/s]"
      ]
     },
     "metadata": {},
     "output_type": "display_data"
    },
    {
     "data": {
      "application/vnd.jupyter.widget-view+json": {
       "model_id": "1160b43e000d49608d9b9f09f0978fbd",
       "version_major": 2,
       "version_minor": 0
      },
      "text/plain": [
       "Map:   0%|          | 0/1000 [00:00<?, ? examples/s]"
      ]
     },
     "metadata": {},
     "output_type": "display_data"
    }
   ],
   "source": [
    "#Tokenize text\n",
    "tokenizer = DistilBertTokenizerFast.from_pretrained('distilbert-base-uncased')\n",
    "def tokenize(batch):\n",
    "    return tokenizer(batch['text'], padding=True, truncation=True, max_length=64)\n",
    "\n",
    "train_dataset_hf = train_dataset_hf.map(tokenize, batched=True)\n",
    "test_dataset_hf = test_dataset_hf.map(tokenize, batched=True)\n",
    "\n",
    "train_dataset_hf.set_format('torch', columns=['input_ids','attention_mask','label'])\n",
    "test_dataset_hf.set_format('torch', columns=['input_ids','attention_mask','label'])"
   ]
  },
  {
   "cell_type": "code",
   "execution_count": 30,
   "id": "f80b1c47-5a81-400a-bf4f-0af4eb0b4119",
   "metadata": {},
   "outputs": [
    {
     "name": "stderr",
     "output_type": "stream",
     "text": [
      "Some weights of DistilBertForSequenceClassification were not initialized from the model checkpoint at distilbert-base-uncased and are newly initialized: ['classifier.bias', 'classifier.weight', 'pre_classifier.bias', 'pre_classifier.weight']\n",
      "You should probably TRAIN this model on a down-stream task to be able to use it for predictions and inference.\n"
     ]
    }
   ],
   "source": [
    "#Define model\n",
    "model = DistilBertForSequenceClassification.from_pretrained('distilbert-base-uncased', num_labels=2)"
   ]
  },
  {
   "cell_type": "code",
   "execution_count": 31,
   "id": "37dbd50c-42b9-4465-99ec-26e6b94f7e20",
   "metadata": {},
   "outputs": [],
   "source": [
    "#Define metrics\n",
    "def compute_metrics(pred):\n",
    "    labels = pred.label_ids\n",
    "    preds = pred.predictions.argmax(-1)\n",
    "    precision, recall, f1, _ = precision_recall_fscore_support(labels, preds, average='weighted')\n",
    "    acc = accuracy_score(labels, preds)\n",
    "    return {'accuracy': acc, 'precision': precision, 'recall': recall, 'f1': f1}"
   ]
  },
  {
   "cell_type": "code",
   "execution_count": 32,
   "id": "a7225e9a-412e-402f-8808-e6185447e841",
   "metadata": {},
   "outputs": [],
   "source": [
    "#Define training arguments (optimized for speed)\n",
    "training_args = TrainingArguments(\n",
    "    output_dir='./results',\n",
    "    num_train_epochs=2,\n",
    "    per_device_train_batch_size=16,\n",
    "    per_device_eval_batch_size=16,\n",
    "    eval_strategy='epoch',\n",
    "    save_strategy='epoch',\n",
    "    logging_dir='./logs',\n",
    "    logging_steps=50,\n",
    "    load_best_model_at_end=True,\n",
    "    metric_for_best_model='accuracy',\n",
    "    fp16=False,\n",
    "    max_steps = 200\n",
    ")"
   ]
  },
  {
   "cell_type": "code",
   "execution_count": 33,
   "id": "3d670627-50e8-4a9a-b073-61e084f90b5e",
   "metadata": {},
   "outputs": [],
   "source": [
    "#Trainer\n",
    "trainer = Trainer(\n",
    "    model=model,\n",
    "    args=training_args,\n",
    "    train_dataset=train_dataset_hf,\n",
    "    eval_dataset=test_dataset_hf,\n",
    "    processing_class=tokenizer,\n",
    "    compute_metrics=compute_metrics\n",
    ")"
   ]
  },
  {
   "cell_type": "code",
   "execution_count": 34,
   "id": "ae8104d5-e72a-481c-8a74-3bfb36fbc139",
   "metadata": {},
   "outputs": [
    {
     "data": {
      "text/html": [
       "\n",
       "    <div>\n",
       "      \n",
       "      <progress value='200' max='200' style='width:300px; height:20px; vertical-align: middle;'></progress>\n",
       "      [200/200 12:10, Epoch 0/1]\n",
       "    </div>\n",
       "    <table border=\"1\" class=\"dataframe\">\n",
       "  <thead>\n",
       " <tr style=\"text-align: left;\">\n",
       "      <th>Epoch</th>\n",
       "      <th>Training Loss</th>\n",
       "      <th>Validation Loss</th>\n",
       "      <th>Accuracy</th>\n",
       "      <th>Precision</th>\n",
       "      <th>Recall</th>\n",
       "      <th>F1</th>\n",
       "    </tr>\n",
       "  </thead>\n",
       "  <tbody>\n",
       "    <tr>\n",
       "      <td>0</td>\n",
       "      <td>0.362400</td>\n",
       "      <td>0.350346</td>\n",
       "      <td>0.856000</td>\n",
       "      <td>0.857320</td>\n",
       "      <td>0.856000</td>\n",
       "      <td>0.855888</td>\n",
       "    </tr>\n",
       "  </tbody>\n",
       "</table><p>"
      ],
      "text/plain": [
       "<IPython.core.display.HTML object>"
      ]
     },
     "metadata": {},
     "output_type": "display_data"
    },
    {
     "data": {
      "text/plain": [
       "TrainOutput(global_step=200, training_loss=0.4209760570526123, metrics={'train_runtime': 733.9146, 'train_samples_per_second': 4.36, 'train_steps_per_second': 0.273, 'total_flos': 52986959462400.0, 'train_loss': 0.4209760570526123, 'epoch': 0.6389776357827476})"
      ]
     },
     "execution_count": 34,
     "metadata": {},
     "output_type": "execute_result"
    }
   ],
   "source": [
    "#Train the model\n",
    "trainer.train()"
   ]
  },
  {
   "cell_type": "code",
   "execution_count": 35,
   "id": "e3f95c18-9ba6-4386-abe3-c5a697d8742a",
   "metadata": {},
   "outputs": [
    {
     "data": {
      "text/html": [
       "\n",
       "    <div>\n",
       "      \n",
       "      <progress value='63' max='63' style='width:300px; height:20px; vertical-align: middle;'></progress>\n",
       "      [63/63 00:34]\n",
       "    </div>\n",
       "    "
      ],
      "text/plain": [
       "<IPython.core.display.HTML object>"
      ]
     },
     "metadata": {},
     "output_type": "display_data"
    },
    {
     "data": {
      "text/plain": [
       "{'eval_loss': 0.3503459095954895,\n",
       " 'eval_accuracy': 0.856,\n",
       " 'eval_precision': 0.8573203004622496,\n",
       " 'eval_recall': 0.856,\n",
       " 'eval_f1': 0.8558876040203177,\n",
       " 'eval_runtime': 35.3259,\n",
       " 'eval_samples_per_second': 28.308,\n",
       " 'eval_steps_per_second': 1.783,\n",
       " 'epoch': 0.6389776357827476}"
      ]
     },
     "execution_count": 35,
     "metadata": {},
     "output_type": "execute_result"
    }
   ],
   "source": [
    "# Evaluate\n",
    "trainer.evaluate()"
   ]
  },
  {
   "cell_type": "code",
   "execution_count": 36,
   "id": "167f8ff0-bf60-4acb-85e8-9f0a872936fe",
   "metadata": {},
   "outputs": [
    {
     "name": "stdout",
     "output_type": "stream",
     "text": [
      "Model and tokenizer saved to customer_feedback_bert\n"
     ]
    }
   ],
   "source": [
    "# Save model & tokenizer\n",
    "model_dir = \"customer_feedback_bert\"\n",
    "os.makedirs(model_dir, exist_ok=True)\n",
    "model.save_pretrained(model_dir)\n",
    "tokenizer.save_pretrained(model_dir)\n",
    "print(f\"Model and tokenizer saved to {model_dir}\")"
   ]
  },
  {
   "cell_type": "code",
   "execution_count": null,
   "id": "17f02209-c414-4b09-aae1-7bcf2b856857",
   "metadata": {},
   "outputs": [],
   "source": []
  }
 ],
 "metadata": {
  "kernelspec": {
   "display_name": "ML Project Venv",
   "language": "python",
   "name": "ml_project_venv"
  },
  "language_info": {
   "codemirror_mode": {
    "name": "ipython",
    "version": 3
   },
   "file_extension": ".py",
   "mimetype": "text/x-python",
   "name": "python",
   "nbconvert_exporter": "python",
   "pygments_lexer": "ipython3",
   "version": "3.9.6"
  }
 },
 "nbformat": 4,
 "nbformat_minor": 5
}
